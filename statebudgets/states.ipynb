{
 "cells": [
  {
   "cell_type": "code",
   "execution_count": 1,
   "metadata": {},
   "outputs": [],
   "source": [
    "import pandas as pd\n",
    "import os\n",
    "import numpy as np\n",
    "import matplotlib.pyplot as plt"
   ]
  },
  {
   "cell_type": "code",
   "execution_count": 2,
   "metadata": {},
   "outputs": [],
   "source": [
    "data = pd.read_csv(\"data\\states.csv\")"
   ]
  },
  {
   "cell_type": "code",
   "execution_count": 3,
   "metadata": {},
   "outputs": [
    {
     "name": "stdout",
     "output_type": "stream",
     "text": [
      "<class 'pandas.core.frame.DataFrame'>\n"
     ]
    }
   ],
   "source": [
    "print(type(data))"
   ]
  },
  {
   "cell_type": "code",
   "execution_count": 4,
   "metadata": {},
   "outputs": [
    {
     "data": {
      "text/html": [
       "<div>\n",
       "<style scoped>\n",
       "    .dataframe tbody tr th:only-of-type {\n",
       "        vertical-align: middle;\n",
       "    }\n",
       "\n",
       "    .dataframe tbody tr th {\n",
       "        vertical-align: top;\n",
       "    }\n",
       "\n",
       "    .dataframe thead th {\n",
       "        text-align: right;\n",
       "    }\n",
       "</style>\n",
       "<table border=\"1\" class=\"dataframe\">\n",
       "  <thead>\n",
       "    <tr style=\"text-align: right;\">\n",
       "      <th></th>\n",
       "      <th>Name</th>\n",
       "      <th>ID</th>\n",
       "      <th>Abbreviation</th>\n",
       "      <th>Statehood</th>\n",
       "      <th>Capital</th>\n",
       "      <th>Region</th>\n",
       "      <th>TotalLandSqM</th>\n",
       "      <th>TotalSqM</th>\n",
       "      <th>Population2015</th>\n",
       "      <th>ElectoralVotes</th>\n",
       "      <th>HighestPoint</th>\n",
       "      <th>HPElevation</th>\n",
       "      <th>SalesTaxRate</th>\n",
       "    </tr>\n",
       "  </thead>\n",
       "  <tbody>\n",
       "    <tr>\n",
       "      <th>0</th>\n",
       "      <td>Delaware</td>\n",
       "      <td>1</td>\n",
       "      <td>DE</td>\n",
       "      <td>12/7/1787</td>\n",
       "      <td>Dover</td>\n",
       "      <td>Mid-Atlantic</td>\n",
       "      <td>1954</td>\n",
       "      <td>2489</td>\n",
       "      <td>945934</td>\n",
       "      <td>3</td>\n",
       "      <td>Near the Ebright Azimuth</td>\n",
       "      <td>447</td>\n",
       "      <td>0.00%</td>\n",
       "    </tr>\n",
       "    <tr>\n",
       "      <th>1</th>\n",
       "      <td>Pennsylvania</td>\n",
       "      <td>2</td>\n",
       "      <td>PA</td>\n",
       "      <td>12/12/1787</td>\n",
       "      <td>Harrisburg</td>\n",
       "      <td>Mid-Atlantic</td>\n",
       "      <td>44817</td>\n",
       "      <td>46055</td>\n",
       "      <td>12802503</td>\n",
       "      <td>20</td>\n",
       "      <td>Mount Davis</td>\n",
       "      <td>3213</td>\n",
       "      <td>6.00%</td>\n",
       "    </tr>\n",
       "    <tr>\n",
       "      <th>2</th>\n",
       "      <td>New Jersey</td>\n",
       "      <td>3</td>\n",
       "      <td>NJ</td>\n",
       "      <td>12/18/1787</td>\n",
       "      <td>Trenton</td>\n",
       "      <td>Mid-Atlantic</td>\n",
       "      <td>7417</td>\n",
       "      <td>8721</td>\n",
       "      <td>8958013</td>\n",
       "      <td>14</td>\n",
       "      <td>High Point</td>\n",
       "      <td>1803</td>\n",
       "      <td>6.63%</td>\n",
       "    </tr>\n",
       "    <tr>\n",
       "      <th>3</th>\n",
       "      <td>Georgia</td>\n",
       "      <td>4</td>\n",
       "      <td>GA</td>\n",
       "      <td>1/2/1788</td>\n",
       "      <td>Atlanta</td>\n",
       "      <td>Southeast</td>\n",
       "      <td>57906</td>\n",
       "      <td>59425</td>\n",
       "      <td>10214860</td>\n",
       "      <td>16</td>\n",
       "      <td>Brasstown Bald</td>\n",
       "      <td>4784</td>\n",
       "      <td>4.00%</td>\n",
       "    </tr>\n",
       "    <tr>\n",
       "      <th>4</th>\n",
       "      <td>Connecticut</td>\n",
       "      <td>5</td>\n",
       "      <td>CT</td>\n",
       "      <td>1/9/1788</td>\n",
       "      <td>Hartford</td>\n",
       "      <td>New England</td>\n",
       "      <td>4845</td>\n",
       "      <td>5543</td>\n",
       "      <td>3590886</td>\n",
       "      <td>7</td>\n",
       "      <td>South side of Mount Frissell</td>\n",
       "      <td>2379</td>\n",
       "      <td>6.35%</td>\n",
       "    </tr>\n",
       "  </tbody>\n",
       "</table>\n",
       "</div>"
      ],
      "text/plain": [
       "           Name  ID Abbreviation   Statehood     Capital        Region  \\\n",
       "0      Delaware   1           DE   12/7/1787      Dover   Mid-Atlantic   \n",
       "1  Pennsylvania   2           PA  12/12/1787  Harrisburg  Mid-Atlantic   \n",
       "2    New Jersey   3           NJ  12/18/1787     Trenton  Mid-Atlantic   \n",
       "3       Georgia   4           GA    1/2/1788    Atlanta      Southeast   \n",
       "4   Connecticut   5           CT    1/9/1788   Hartford    New England   \n",
       "\n",
       "   TotalLandSqM  TotalSqM  Population2015  ElectoralVotes  \\\n",
       "0          1954      2489          945934               3   \n",
       "1         44817     46055        12802503              20   \n",
       "2          7417      8721         8958013              14   \n",
       "3         57906     59425        10214860              16   \n",
       "4          4845      5543         3590886               7   \n",
       "\n",
       "                   HighestPoint  HPElevation SalesTaxRate  \n",
       "0      Near the Ebright Azimuth          447        0.00%  \n",
       "1                   Mount Davis         3213        6.00%  \n",
       "2                    High Point         1803        6.63%  \n",
       "3                Brasstown Bald         4784        4.00%  \n",
       "4  South side of Mount Frissell         2379        6.35%  "
      ]
     },
     "execution_count": 4,
     "metadata": {},
     "output_type": "execute_result"
    }
   ],
   "source": [
    "data.head()"
   ]
  },
  {
   "cell_type": "code",
   "execution_count": 5,
   "metadata": {},
   "outputs": [
    {
     "data": {
      "text/html": [
       "<div>\n",
       "<style scoped>\n",
       "    .dataframe tbody tr th:only-of-type {\n",
       "        vertical-align: middle;\n",
       "    }\n",
       "\n",
       "    .dataframe tbody tr th {\n",
       "        vertical-align: top;\n",
       "    }\n",
       "\n",
       "    .dataframe thead th {\n",
       "        text-align: right;\n",
       "    }\n",
       "</style>\n",
       "<table border=\"1\" class=\"dataframe\">\n",
       "  <thead>\n",
       "    <tr style=\"text-align: right;\">\n",
       "      <th></th>\n",
       "      <th>Name</th>\n",
       "      <th>ID</th>\n",
       "      <th>Abbreviation</th>\n",
       "      <th>Statehood</th>\n",
       "      <th>Capital</th>\n",
       "      <th>Region</th>\n",
       "      <th>TotalLandSqM</th>\n",
       "      <th>TotalSqM</th>\n",
       "      <th>Population2015</th>\n",
       "      <th>ElectoralVotes</th>\n",
       "      <th>HighestPoint</th>\n",
       "      <th>HPElevation</th>\n",
       "      <th>SalesTaxRate</th>\n",
       "    </tr>\n",
       "  </thead>\n",
       "  <tbody>\n",
       "    <tr>\n",
       "      <th>45</th>\n",
       "      <td>Oklahoma</td>\n",
       "      <td>46</td>\n",
       "      <td>OK</td>\n",
       "      <td>11/16/1907</td>\n",
       "      <td>Oklahoma City</td>\n",
       "      <td>Southwest</td>\n",
       "      <td>68667</td>\n",
       "      <td>69898</td>\n",
       "      <td>3911338</td>\n",
       "      <td>7</td>\n",
       "      <td>Black Mesa</td>\n",
       "      <td>4975</td>\n",
       "      <td>4.50%</td>\n",
       "    </tr>\n",
       "    <tr>\n",
       "      <th>46</th>\n",
       "      <td>New Mexico</td>\n",
       "      <td>47</td>\n",
       "      <td>NM</td>\n",
       "      <td>1/6/1912</td>\n",
       "      <td>Santa Fe</td>\n",
       "      <td>Southwest</td>\n",
       "      <td>121356</td>\n",
       "      <td>121589</td>\n",
       "      <td>2085109</td>\n",
       "      <td>5</td>\n",
       "      <td>Wheeler Peak</td>\n",
       "      <td>13167</td>\n",
       "      <td>5.13%</td>\n",
       "    </tr>\n",
       "    <tr>\n",
       "      <th>47</th>\n",
       "      <td>Arizona</td>\n",
       "      <td>48</td>\n",
       "      <td>AZ</td>\n",
       "      <td>2/14/1912</td>\n",
       "      <td>Phoenix</td>\n",
       "      <td>Southwest</td>\n",
       "      <td>113635</td>\n",
       "      <td>113998</td>\n",
       "      <td>6828065</td>\n",
       "      <td>11</td>\n",
       "      <td>Humphreys Peak</td>\n",
       "      <td>12637</td>\n",
       "      <td>5.60%</td>\n",
       "    </tr>\n",
       "    <tr>\n",
       "      <th>48</th>\n",
       "      <td>Alaska</td>\n",
       "      <td>49</td>\n",
       "      <td>AK</td>\n",
       "      <td>1/3/1959</td>\n",
       "      <td>Juneau</td>\n",
       "      <td>Far West</td>\n",
       "      <td>571951</td>\n",
       "      <td>663267</td>\n",
       "      <td>738432</td>\n",
       "      <td>3</td>\n",
       "      <td>Denali</td>\n",
       "      <td>20310</td>\n",
       "      <td>0.00%</td>\n",
       "    </tr>\n",
       "    <tr>\n",
       "      <th>49</th>\n",
       "      <td>Hawaii</td>\n",
       "      <td>50</td>\n",
       "      <td>HI</td>\n",
       "      <td>8/21/1959</td>\n",
       "      <td>Honolulu</td>\n",
       "      <td>Far West</td>\n",
       "      <td>6423</td>\n",
       "      <td>10931</td>\n",
       "      <td>1431603</td>\n",
       "      <td>4</td>\n",
       "      <td>Mauna Kea on the Island of Hawaii</td>\n",
       "      <td>13803</td>\n",
       "      <td>4.00%</td>\n",
       "    </tr>\n",
       "  </tbody>\n",
       "</table>\n",
       "</div>"
      ],
      "text/plain": [
       "          Name  ID Abbreviation   Statehood        Capital     Region  \\\n",
       "45    Oklahoma  46           OK  11/16/1907  Oklahoma City  Southwest   \n",
       "46  New Mexico  47           NM    1/6/1912       Santa Fe  Southwest   \n",
       "47     Arizona  48           AZ   2/14/1912       Phoenix   Southwest   \n",
       "48      Alaska  49           AK    1/3/1959        Juneau    Far West   \n",
       "49      Hawaii  50           HI   8/21/1959      Honolulu    Far West   \n",
       "\n",
       "    TotalLandSqM  TotalSqM  Population2015  ElectoralVotes  \\\n",
       "45         68667     69898         3911338               7   \n",
       "46        121356    121589         2085109               5   \n",
       "47        113635    113998         6828065              11   \n",
       "48        571951    663267          738432               3   \n",
       "49          6423     10931         1431603               4   \n",
       "\n",
       "                         HighestPoint  HPElevation SalesTaxRate  \n",
       "45                         Black Mesa         4975        4.50%  \n",
       "46                       Wheeler Peak        13167        5.13%  \n",
       "47                     Humphreys Peak        12637        5.60%  \n",
       "48                             Denali        20310        0.00%  \n",
       "49  Mauna Kea on the Island of Hawaii        13803        4.00%  "
      ]
     },
     "execution_count": 5,
     "metadata": {},
     "output_type": "execute_result"
    }
   ],
   "source": [
    "data.tail()"
   ]
  },
  {
   "cell_type": "code",
   "execution_count": 6,
   "metadata": {},
   "outputs": [
    {
     "data": {
      "text/plain": [
       "(50, 13)"
      ]
     },
     "execution_count": 6,
     "metadata": {},
     "output_type": "execute_result"
    }
   ],
   "source": [
    "data.shape"
   ]
  },
  {
   "cell_type": "code",
   "execution_count": 7,
   "metadata": {},
   "outputs": [
    {
     "data": {
      "text/plain": [
       "Name              object\n",
       "ID                 int64\n",
       "Abbreviation      object\n",
       "Statehood         object\n",
       "Capital           object\n",
       "Region            object\n",
       "TotalLandSqM       int64\n",
       "TotalSqM           int64\n",
       "Population2015     int64\n",
       "ElectoralVotes     int64\n",
       "HighestPoint      object\n",
       "HPElevation        int64\n",
       "SalesTaxRate      object\n",
       "dtype: object"
      ]
     },
     "execution_count": 7,
     "metadata": {},
     "output_type": "execute_result"
    }
   ],
   "source": [
    "data.dtypes"
   ]
  },
  {
   "cell_type": "code",
   "execution_count": 8,
   "metadata": {},
   "outputs": [
    {
     "data": {
      "text/plain": [
       "count        50\n",
       "unique       22\n",
       "top       6.00%\n",
       "freq         10\n",
       "Name: SalesTaxRate, dtype: object"
      ]
     },
     "execution_count": 8,
     "metadata": {},
     "output_type": "execute_result"
    }
   ],
   "source": [
    "data['SalesTaxRate'].describe()"
   ]
  },
  {
   "cell_type": "code",
   "execution_count": 9,
   "metadata": {},
   "outputs": [],
   "source": [
    "data['SalesTaxRate'] = data['SalesTaxRate'].map(lambda x: str(x)[:-1])"
   ]
  },
  {
   "cell_type": "code",
   "execution_count": 10,
   "metadata": {},
   "outputs": [],
   "source": [
    "data['SalesTaxRate'] = data['SalesTaxRate'].astype('float64')"
   ]
  },
  {
   "cell_type": "code",
   "execution_count": 11,
   "metadata": {},
   "outputs": [
    {
     "data": {
      "text/plain": [
       "Name               object\n",
       "ID                  int64\n",
       "Abbreviation       object\n",
       "Statehood          object\n",
       "Capital            object\n",
       "Region             object\n",
       "TotalLandSqM        int64\n",
       "TotalSqM            int64\n",
       "Population2015      int64\n",
       "ElectoralVotes      int64\n",
       "HighestPoint       object\n",
       "HPElevation         int64\n",
       "SalesTaxRate      float64\n",
       "dtype: object"
      ]
     },
     "execution_count": 11,
     "metadata": {},
     "output_type": "execute_result"
    }
   ],
   "source": [
    "data.dtypes"
   ]
  },
  {
   "cell_type": "code",
   "execution_count": 12,
   "metadata": {},
   "outputs": [
    {
     "data": {
      "text/plain": [
       "count    50.000000\n",
       "mean      5.096400\n",
       "std       1.976747\n",
       "min       0.000000\n",
       "25%       4.500000\n",
       "50%       5.975000\n",
       "75%       6.250000\n",
       "max       7.250000\n",
       "Name: SalesTaxRate, dtype: float64"
      ]
     },
     "execution_count": 12,
     "metadata": {},
     "output_type": "execute_result"
    }
   ],
   "source": [
    "data['SalesTaxRate'].describe()"
   ]
  },
  {
   "cell_type": "code",
   "execution_count": 13,
   "metadata": {},
   "outputs": [
    {
     "data": {
      "text/plain": [
       "<matplotlib.axes._subplots.AxesSubplot at 0x292015c88d0>"
      ]
     },
     "execution_count": 13,
     "metadata": {},
     "output_type": "execute_result"
    },
    {
     "data": {
      "image/png": "[encoded data removed]",
      "text/plain": [
       "<Figure size 432x288 with 1 Axes>"
      ]
     },
     "metadata": {
      "needs_background": "light"
     },
     "output_type": "display_data"
    }
   ],
   "source": [
    "data.plot(kind='bar', x = 'Name', y = 'SalesTaxRate')"
   ]
  },
  {
   "cell_type": "code",
   "execution_count": null,
   "metadata": {},
   "outputs": [],
   "source": []
  }
 ],
 "metadata": {
  "kernelspec": {
   "display_name": "Python 3",
   "language": "python",
   "name": "python3"
  },
  "language_info": {
   "codemirror_mode": {
    "name": "ipython",
    "version": 3
   },
   "file_extension": ".py",
   "mimetype": "text/x-python",
   "name": "python",
   "nbconvert_exporter": "python",
   "pygments_lexer": "ipython3",
   "version": "3.7.2"
  }
 },
 "nbformat": 4,
 "nbformat_minor": 2
}

{
 "cells": [
  {
   "cell_type": "code",
   "execution_count": 1,
   "metadata": {},
   "outputs": [],
   "source": [
    "%matplotlib inline\n",
    "\n",
    "import matplotlib\n",
    "import pandas as pd\n",
    "import numpy as np\n",
    "import math\n",
    "import matplotlib.pyplot as plt"
   ]
  },
  {
   "cell_type": "code",
   "execution_count": 2,
   "metadata": {},
   "outputs": [],
   "source": [
    "pd.options.display.float_format = '${:,.2f}'.format"
   ]
  },
  {
   "cell_type": "code",
   "execution_count": 3,
   "metadata": {},
   "outputs": [],
   "source": [
    "data = pd.read_csv(\"State_Employee_Credit_Card_Transactions.csv\")"
   ]
  },
  {
   "cell_type": "code",
   "execution_count": 4,
   "metadata": {},
   "outputs": [
    {
     "data": {
      "text/html": [
       "<div>\n",
       "<style scoped>\n",
       "    .dataframe tbody tr th:only-of-type {\n",
       "        vertical-align: middle;\n",
       "    }\n",
       "\n",
       "    .dataframe tbody tr th {\n",
       "        vertical-align: top;\n",
       "    }\n",
       "\n",
       "    .dataframe thead th {\n",
       "        text-align: right;\n",
       "    }\n",
       "</style>\n",
       "<table border=\"1\" class=\"dataframe\">\n",
       "  <thead>\n",
       "    <tr style=\"text-align: right;\">\n",
       "      <th></th>\n",
       "      <th>FISCAL_YEAR</th>\n",
       "      <th>FISCAL_PERIOD</th>\n",
       "      <th>DEPT_NAME</th>\n",
       "      <th>DIV_NAME</th>\n",
       "      <th>MERCHANT</th>\n",
       "      <th>CAT_DESCR</th>\n",
       "      <th>TRANS_DT</th>\n",
       "      <th>MERCHANDISE_AMT</th>\n",
       "    </tr>\n",
       "  </thead>\n",
       "  <tbody>\n",
       "    <tr>\n",
       "      <th>822050</th>\n",
       "      <td>2015</td>\n",
       "      <td>10</td>\n",
       "      <td>DEPT OF SAFETY AND HOMELAND</td>\n",
       "      <td>COMMUNICATION</td>\n",
       "      <td>HYATT HOTELS RESTON</td>\n",
       "      <td>LODGING</td>\n",
       "      <td>04/16/2015</td>\n",
       "      <td>$512.96</td>\n",
       "    </tr>\n",
       "    <tr>\n",
       "      <th>456398</th>\n",
       "      <td>2017</td>\n",
       "      <td>11</td>\n",
       "      <td>DEPT OF CORRECTIONS</td>\n",
       "      <td>Food Services</td>\n",
       "      <td>MCKINNEY'S TOWING</td>\n",
       "      <td>Automotive Service Shops</td>\n",
       "      <td>05/22/2017</td>\n",
       "      <td>$842.00</td>\n",
       "    </tr>\n",
       "    <tr>\n",
       "      <th>477788</th>\n",
       "      <td>2017</td>\n",
       "      <td>6</td>\n",
       "      <td>SVS FR CHILDREN YOUTH FAMILIES</td>\n",
       "      <td>Managed Care Organization</td>\n",
       "      <td>COL PRKNG JSTCE CTR Q08</td>\n",
       "      <td>Automobile Parking Lots And Garages</td>\n",
       "      <td>12/20/2016</td>\n",
       "      <td>$11.00</td>\n",
       "    </tr>\n",
       "    <tr>\n",
       "      <th>136294</th>\n",
       "      <td>2019</td>\n",
       "      <td>4</td>\n",
       "      <td>DEPT OF TRANSPORTATION</td>\n",
       "      <td>Maintenance Districts</td>\n",
       "      <td>ARROW SAFETY DEVICE CO</td>\n",
       "      <td>Miscellaneous And Specialty Retail Stores</td>\n",
       "      <td>10/02/2018</td>\n",
       "      <td>$61.60</td>\n",
       "    </tr>\n",
       "    <tr>\n",
       "      <th>331540</th>\n",
       "      <td>2018</td>\n",
       "      <td>3</td>\n",
       "      <td>DEPT OF HEALTH AND SOCIAL SV</td>\n",
       "      <td>Medicaid And Medical Assista</td>\n",
       "      <td>STAPLS0159509705000001</td>\n",
       "      <td>Stationery-Office Supplies-Printing Writing Pap</td>\n",
       "      <td>09/20/2017</td>\n",
       "      <td>$50.78</td>\n",
       "    </tr>\n",
       "  </tbody>\n",
       "</table>\n",
       "</div>"
      ],
      "text/plain": [
       "        FISCAL_YEAR  FISCAL_PERIOD                       DEPT_NAME  \\\n",
       "822050         2015             10     DEPT OF SAFETY AND HOMELAND   \n",
       "456398         2017             11             DEPT OF CORRECTIONS   \n",
       "477788         2017              6  SVS FR CHILDREN YOUTH FAMILIES   \n",
       "136294         2019              4          DEPT OF TRANSPORTATION   \n",
       "331540         2018              3    DEPT OF HEALTH AND SOCIAL SV   \n",
       "\n",
       "                            DIV_NAME                 MERCHANT  \\\n",
       "822050                 COMMUNICATION      HYATT HOTELS RESTON   \n",
       "456398                 Food Services        MCKINNEY'S TOWING   \n",
       "477788     Managed Care Organization  COL PRKNG JSTCE CTR Q08   \n",
       "136294         Maintenance Districts   ARROW SAFETY DEVICE CO   \n",
       "331540  Medicaid And Medical Assista   STAPLS0159509705000001   \n",
       "\n",
       "                                              CAT_DESCR    TRANS_DT  \\\n",
       "822050                                          LODGING  04/16/2015   \n",
       "456398                         Automotive Service Shops  05/22/2017   \n",
       "477788              Automobile Parking Lots And Garages  12/20/2016   \n",
       "136294        Miscellaneous And Specialty Retail Stores  10/02/2018   \n",
       "331540  Stationery-Office Supplies-Printing Writing Pap  09/20/2017   \n",
       "\n",
       "        MERCHANDISE_AMT  \n",
       "822050          $512.96  \n",
       "456398          $842.00  \n",
       "477788           $11.00  \n",
       "136294           $61.60  \n",
       "331540           $50.78  "
      ]
     },
     "execution_count": 4,
     "metadata": {},
     "output_type": "execute_result"
    }
   ],
   "source": [
    "data.sample(5)"
   ]
  },
  {
   "cell_type": "code",
   "execution_count": 5,
   "metadata": {},
   "outputs": [
    {
     "name": "stdout",
     "output_type": "stream",
     "text": [
      "<class 'pandas.core.frame.DataFrame'>\n",
      "RangeIndex: 1144129 entries, 0 to 1144128\n",
      "Data columns (total 8 columns):\n",
      "FISCAL_YEAR        1144129 non-null int64\n",
      "FISCAL_PERIOD      1144129 non-null int64\n",
      "DEPT_NAME          1144129 non-null object\n",
      "DIV_NAME           1144129 non-null object\n",
      "MERCHANT           1144129 non-null object\n",
      "CAT_DESCR          1144129 non-null object\n",
      "TRANS_DT           1144129 non-null object\n",
      "MERCHANDISE_AMT    1144129 non-null float64\n",
      "dtypes: float64(1), int64(2), object(5)\n",
      "memory usage: 69.8+ MB\n"
     ]
    }
   ],
   "source": [
    "data.info()"
   ]
  },
  {
   "cell_type": "code",
   "execution_count": 6,
   "metadata": {},
   "outputs": [
    {
     "name": "stdout",
     "output_type": "stream",
     "text": [
      "CAT_DESCR count = 504\n",
      "\n",
      "['ACCESSORY AND APPAREL STORES-MISCELLANEOUS', 'ACCOUNTING AUDITING AND BOOKKEEPING SERVICES', 'ADVERTISING SERVICES', 'AGRICULTURAL COOPERATIVES', 'AIR CONDITIONING AND REFRIGERATION REPAIR SHOPS', 'AIRLINE', 'ALTERATIONS MENDING SEAMSTRESSES TAILORS', 'AMBULANCE SERVICES', 'AMUSEMENT PARKS CARNIVALS CIRCUS FORTUNE TELLERS', 'ANTIQUE SHOPS-SALES REPAIRS RESTORATION SERVICES', 'APPLICATIONS - EXCLUDES GAMES', 'AQUARIUMS DOLPHINARIUMS AND SEAQUARIUMS', 'ARCHITECTURAL ENGINEERING AND SURVEYING SERVICES', 'ART DEALERS AND GALLERIES', 'ARTIST SUPPLY STORES CRAFT SHOPS', 'ASSOCIATIONS-CIVIC SOCIAL AND FRATERNAL', 'ATHLTIC FIELDS COMMRCL SPRT SPRT CLBS SPRT PROMOTR', 'ATTORNEYS LEGAL SERVICES', 'AUTO TRUCK DLRS-SALES SVC REPRS PRTS LEASING', 'AUTOGRAPH', 'AUTOMOBILE AND TRUCK DEALERS-USED ONLY-SALES', 'AUTOMOBILE ASSOCIATIONS', 'AUTOMOBILE PARKING LOTS AND GARAGES', 'AUTOMOTIVE BODY REPAIR SHOPS', 'AUTOMOTIVE PAINT SHOPS', 'AUTOMOTIVE PARTS ACCESSORIES STORES', 'AUTOMOTIVE SERVICE SHOPS', 'AUTOMOTIVE TIRE STORES', 'Accessory And Apparel Stores-Miscellaneous', 'Accounting Auditing And Bookkeeping Services', 'Advertising Services', 'Agricultural Cooperatives', 'Air Conditioning And Refrigeration Repair Shops', 'Airline', 'Alterations Mending Seamstresses Tailors', 'Ambulance Services', 'Amusement Parks Carnivals Circus Fortune Tellers', 'Antique Shops-Sales Repairs Restoration Services', 'Applications - Excludes Games', 'Aquariums Dolphinariums And Seaquariums', 'Architectural Engineering And Surveying Services', 'Art Dealers And Galleries', 'Artist Supply Stores Craft Shops', 'Associations-Civic Social And Fraternal', 'Athltic Fields Commrcl Sprt Sprt Clbs Sprt Promotr', 'Attorneys Legal Services', 'Auto Truck Dlrs-Sales Svc Reprs Prts Leasing', 'Autograph', 'Automobile And Truck Dealers-Used Only-Sales', 'Automobile Associations', 'Automobile Parking Lots And Garages', 'Automotive Body Repair Shops', 'Automotive Parts Accessories Stores', 'Automotive Service Shops', 'Automotive Tire Stores', 'BAKERIES', 'BANDS ORCHESTRAS MISC ENTRTNRS-NOT ELSWHR CLAS', 'BAR LOUNGE DISCO NIGHTCLUB TAVERN-ALCOHOLIC DRINKS', 'BARBER AND BEAUTY SHOPS', 'BICYCLE SHOPS-SALES AND SERVICE', 'BOAT DEALERS', 'BOAT LEASES AND BOAT RENTALS', 'BOOK STORES', 'BOOKS PERIODICALS AND NEWSPAPERS', 'BOWLING ALLEYS', 'BRIDGE AND ROAD FEES TOLLS', 'BUILDING MATERIALS LUMBER STORES', 'BUSINESS SERVICES-NOT ELSEWHERE CLASSIFIED', 'BUYING-SHOPPING CLUBS SERVICES', 'Bakeries', 'Bands Orchestras Misc Entrtnrs-Not Elswhr Clas', 'Bar Lounge Disco Nightclub Tavern-Alcoholic Drinks', 'Barber And Beauty Shops', 'Bicycle Shops-Sales And Service', 'Boat Dealers', 'Boat Leases And Boat Rentals', 'Book Stores', 'Books Periodicals And Newspapers', 'Bowling Alleys', 'Bridge And Road Fees Tolls', 'Building Materials Lumber Stores', 'Business Services-Not Elsewhere Classified', 'Buying-Shopping Clubs Services', 'CABLE SATELLITE OTHER PAY TELEVISION RADIO SVCS', 'CAMERA AND PHOTOGRAPHIC SUPPLY STORES', 'CAMPER DEALERS RECREATIONAL AND UTILITY TRAILERS', 'CAMPGROUNDS AND TRAILER PARKS', 'CANDY NUT CONFECTIONERY STORES', 'CAR RENTAL', 'CAR WASHES', 'CARPENTRY CONTRACTORS', 'CARPET AND UPHOLSTERY CLEANING', 'CATERERS', 'CHEMICALS-ALLIED PRODUCTS NOT ELSEWHERE CLASSIFIED', 'CHILD CARE SERVICES', 'CHILDRENS AND INFANTS WEAR STORES', 'CHIROPODISTS PODIATRISTS', 'CHIROPRACTORS', 'CLEANING AND MAINTENANCE JANITORIAL SERVICES', 'CLEANING GARMENT AND LAUNDRY SERVICES', 'CLOCK JEWELRY WATCH AND SILVERWARE STORE', 'CLOTHING RENTAL-COSTUMES UNIFORMS FORMAL WEAR', 'CLUBS-CNTRY MBRSHIPATHLET REC SPRTS PRIVATE GOLF', 'COLLEGES UNIV PRO SCHOOLS JUNIOR COLLEGES', 'COMMERCIAL ART GRAPHICS PHOTOGRAPHY', 'COMMERCIAL EQUIPMENT NOT ELSEWHERE CLASSIFIED', 'COMMERCIAL FOOTWEAR', 'COMP PROGRAMING DATA PRCSNG INTGRTD SYS DSGN SRVS', 'COMPUTER MAIN-REPAIR-SERVICES NOT ELSEWHERE CLASS', 'COMPUTER NETWORK-INFORMATION SERVICES', 'COMPUTER SOFTWARE STORES', 'COMPUTERS COMPUTER PERIPHERAL EQUIPMENT SOFTWARE', 'CONCRETE WORK CONTRACTORS', 'CONSTRUCTION MATERIALS NOT ELSEWHERE CLASSIFIED', 'CONSULTING MANAGEMENT AND PUBLIC RELATIONS SVCS', 'CONSUMER CREDIT REPORTING AGENCIES', 'CONTRACTORS SPECIAL TRADE-NOT ELSEWHERE CLASSIFIED', 'COSMETIC STORES', 'COURIER SVC-AIR GROUND FREIGHT FORWARDERS', 'COURT COSTS INCLUDING ALIMONY AND CHILD SUPPORT', 'CRYSTAL AND GLASSWARE STORES', 'Cable Satellite Other Pay Television Radio Svcs', 'Camera And Photographic Supply Stores', 'Camper Dealers Recreational And Utility Trailers', 'Campgrounds And Trailer Parks', 'Candy Nut Confectionery Stores', 'Car Rental', 'Car Washes', 'Carpentry Contractors', 'Carpet And Upholstery Cleaning', 'Caterers', 'Chemicals-Allied Products Not Elsewhere Classified', 'Child Care Services', 'Childrens And Infants Wear Stores', 'Chiropodists Podiatrists', 'Chiropractors', 'Cleaning And Maintenance Janitorial Services', 'Cleaning Garment And Laundry Services', 'Clock Jewelry Watch And Silverware Store', 'Clothing Rental-Costumes Uniforms Formal Wear', 'Clubs-Cntry MbrshipAthlet Rec Sprts Private Golf', 'Colleges Univ Pro Schools Junior Colleges', 'Commercial Art Graphics Photography', 'Commercial Equipment Not Elsewhere Classified', 'Commercial Footwear', 'Comp Programing Data Prcsng Intgrtd Sys Dsgn Srvs', 'Computer Main-Repair-Services Not Elsewhere Class', 'Computer Network-Information Services', 'Computer Software Stores', 'Computers Computer Peripheral Equipment Software', 'Concrete Work Contractors', 'Construction Materials Not Elsewhere Classified', 'Consulting Management And Public Relations Svcs', 'Consumer Credit Reporting Agencies', 'Contractors Special Trade-Not Elsewhere Classified', 'Cosmetic Stores', 'Courier Svc-Air Ground Freight Forwarders', 'Court Costs Including Alimony And Child Support', 'Crystal And Glassware Stores', 'DAIRY PRODUCTS STORES', 'DANCE HALLS SCHOOLS AND STUDIOS', 'DEBT MARRIAGE PERSONAL-COUNSELING SERVICE', 'DENTAL-LAB-MED-OPHTHALMIC HOSP EQUIP SUPPLIES', 'DENTISTS ORTHODONTISTS', 'DEPARTMENT STORES', 'DETECTVE-PROTECTVE AGNCY SECURITY SRVS ARMOR CARS', 'DIRECT MARKETING-CATALOG MERCHANTS', 'DIRECT MARKETING-COMBINATION CATALOG-RETAIL MERCH', 'DIRECT MARKETING-CONTINUITY-SUBSCRIPTION MERCHANTS', 'DIRECT MARKETING-INBOUND TELEMARKETING MERCHANTS', 'DIRECT MARKETING-INSURANCE SERVICES', 'DIRECT MARKETING-OTHER DIRECT MARKETERS-NOT ELSEW', 'DISCOUNT STORES', 'DOCTORS NOT ELSEWHERE CLASSIFIED', 'DOOR-TO-DOOR SALES', 'DRAPERY UPOLSTERY AND WINDOW COVERINGS STORES', 'DRUG STORES PHARMACIES', 'DRUGS DRUP PROPRIETARIES AND DRUGGISTS SUPPLIES', 'DRY CLEANERS', 'DURABLE GOODS NOT ELSEWHERE CLASSIFIED', 'DUTY FREE STORES', 'Dairy Products Stores', 'Dance Halls Schools And Studios', 'Debt Marriage Personal-Counseling Service', 'Dental-Lab-Med-Ophthalmic Hosp Equip Supplies', 'Dentists Orthodontists', 'Department Stores', 'Detectve-Protectve Agncy Security Srvs Armor Cars', 'Direct Marketing-Catalog Merchants', 'Direct Marketing-Combination Catalog-Retail Merch', 'Direct Marketing-Continuity-Subscription Merchants', 'Direct Marketing-Insurance Services', 'Direct Marketing-Other Direct Marketers-Not Elsew', 'Discount Stores', 'Doctors Not Elsewhere Classified', 'Drapery Upolstery And Window Coverings Stores', 'Drug Stores Pharmacies', 'Drugs Drup Proprietaries And Druggists Supplies', 'Dry Cleaners', 'Durable Goods Not Elsewhere Classified', 'Duty Free Stores', 'EATING PLACES RESTAURANTS', 'ELECTRICAL AND SMALL APPLIANCE REPAIR SHOPS', 'ELECTRICAL CONTRACTORS', 'ELECTRICAL PARTS AND EQUIPMENT', 'ELECTRONIC REPAIR SHOPS', 'ELECTRONIC SALES', 'EMPLOYMENT AGENCIES TEMPORARY HELP SERVICES', 'EQUIP FURNITURE HOME FURNSHNGS STRS EXCPT APPL', 'EQUIPMENT RENTALLEASING SVS FURNTURE-TOOL RENTAL', 'EXTERMINATING AND DISINFECTING SERVICES', 'Eating Places Restaurants', 'Electrical And Small Appliance Repair Shops', 'Electrical Contractors', 'Electrical Parts And Equipment', 'Electronic Repair Shops', 'Electronic Sales', 'Employment Agencies Temporary Help Services', 'Equip Furniture Home Furnshngs Strs Excpt Appl', 'Equipment RentalLeasing Svs Furnture-Tool Rental', 'Exterminating And Disinfecting Services', 'FABRIC NEEDLEWORK PIECE GOODS AND SEWING STORES', 'FAMILY CLOTHING STORES', 'FAST FOOD RESTAURANTS', 'FINES', 'FIREPLACE FIREPLACE SCREENS ACCESSORIES STORES', 'FLOOR COVERING STORES', 'FLORIST SUPPLIES NURSERY STOCK FLOWERS', 'FLORISTS', 'FREEZER LOCKER MEAT PROVISIONERS', 'FREIGHT CARRIER TRUCKING-LCL-LNG DIST MVG-STORAGE', 'FUEL DEALERS-COAL FUEL OIL LIQ PETROLEUM WOOD', 'FUEL DISPENSER AUTOMATED', 'FUNERAL SERVICE AND CREMATORIES', 'FURNITURE-REUPHOLSTERY AND REPAIR REFINISHING', 'Fabric Needlework Piece Goods And Sewing Stores', 'Family Clothing Stores', 'Fast Food Restaurants', 'Fines', 'Fireplace Fireplace Screens Accessories Stores', 'Floor Covering Stores', 'Florist Supplies Nursery Stock Flowers', 'Florists', 'Freezer Locker Meat Provisioners', 'Freight Carrier Trucking-Lcl-Lng Dist Mvg-Storage', 'Fuel Dealers-Coal Fuel Oil Liq Petroleum Wood', 'Fuel Dispenser Automated', 'Funeral Service And Crematories', 'Furniture-Reupholstery And Repair Refinishing', 'GAME TOY AND HOBBY SHOPS', 'GENERAL CONTRACTORS-RESIDENTIAL BUILDINGS', 'GIFT CARD NOVELTY AND SOUVENIR SHOPS', 'GLASS PAINT WALLPAPER STORES', 'GOLF COURSES-PUBLIC', 'GOVERNMENT SERVICES-NOT ELSEWHERE CLASSIFIED', 'GROCERY STORES SUPERMARKETS', 'Game Toy And Hobby Shops', 'Games', 'General Contractors-Residential Buildings', 'Gift Card Novelty And Souvenir Shops', 'Glass Paint Wallpaper Stores', 'Golf Courses-Public', 'Government Services-Not Elsewhere Classified', 'Grocery Stores Supermarkets', 'HARDWARE EQUIPMENT AND SUPPLIES', 'HARDWARE STORES', 'HAT CLEANING SHOPS SHOE REPAIR SHOPS SHOE SHINE', 'HEALTH AND BEAUTY SPAS', 'HEALTH PRACTITIONERS MEDICAL SRVCS-NOT ELSEWHERE', 'HEARING AIDS-SALES SERVICE SUPPLY STORES', 'HEATING PLUMBING AIR CONDITIONING CONTRACTORS', 'HOME SUPPLY WAREHOUSE STORES', 'HOSPITALS', 'HOUSEHOLD APPLIANCE STORES', 'Hardware Equipment And Supplies', 'Hardware Stores', 'Hat Cleaning Shops Shoe Repair Shops Shoe Shine', 'Health And Beauty Spas', 'Health Practitioners Medical Srvcs-Not Elsewhere', 'Hearing Aids-Sales Service Supply Stores', 'Heating Plumbing Air Conditioning Contractors', 'Home Supply Warehouse Stores', 'Hospitals', 'Household Appliance Stores', 'INDUSTRIAL SUPPLIES NOT ELSEWHERE CLASSIFIED', 'INFORMATION RETRIEVAL SERVICES', 'INSULATION MASONRY PLSTER STONEWRK TILESET CNTRCTR', 'INSURANCE SALES UNDERWRITING AND PREMIUMS', 'INTERNAL TRANSACTION', 'INTRA-GOVERNMENT PURCHASES-GOVERNMENT ONLY', 'Industrial Supplies Not Elsewhere Classified', 'Information Retrieval Services', 'Insulation Masonry Plster Stonewrk Tileset Cntrctr', 'Insurance Sales Underwriting And Premiums', 'Internal Transaction', 'Intra-Government Purchases-Government Only', 'LANDSCAPING AND HORTICULTURAL SERVICES', 'LARGE DIGITAL GOODS MERCHANT', 'LAUNDRY SERVICES - FAMILY AND COMMERICAL', 'LAWN AND GARDEN SUPPLY STORES', 'LEATHER GOODS AND LUGGAGE STORES', 'LODGING', 'Landscaping And Horticultural Services', 'Large Digital Goods Merchant', 'Laundry Services - Family And Commerical', 'Lawn And Garden Supply Stores', 'Leather Goods And Luggage Stores', 'Lodging', 'MARINAS MARINE SERVICE-SUPPLIES', 'MEDIA- BOOKSMOVIESMUSIC', 'MEDICAL AND DENTAL LABORATORIES', 'MEMBER-AUTOMATED CASH DISBURSEMENT', 'MENS AND BOYS CLOTHING AND ACCESSORIES STORES', 'MENS AND WOMENS CLOTHING STORES', 'MENS-WOMENS-CHILDRENS UNIFORMS-COMMERCIAL CLOTH', 'METAL SERVICE CENTERS AND OFFICES', 'MISC FOOD STORE-CONVENIENCE MRKT SPLTY VENDNG MACS', 'MISC-AUTO-AIRCRAFT-FARM EQUIP NOT ELSEWHERE CLASS', 'MISCELLANEOUS AND SPECIALTY RETAIL STORES', 'MISCELLANEOUS GENERAL MERCHANDISE', 'MISCELLANEOUS HOUSE FURNISHING SPECIALTY SHOPS', 'MISCELLANEOUS PUBLISHING AND PRINTING', 'MISCELLANEOUS REPAIR SHOPS AND RELATED SERVICES', 'MISCELLANEOUS SERVICES', 'MOBILE HOME DEALERS', 'MOTION PICTURE THEATERS', 'MOTION PICTURE-VIDEO TAPE PRODUCTION-DISTRIBUTION', 'MOTOR HOME DEALERS', 'MOTOR VEHICLE SUPPLIES AND NEW PARTS', 'MOTORCYCLE SHOPS AND DEALERS', 'MUSIC STORES-INSTRUMENTS PIANOS SHEET MUSIC', 'Marinas Marine Service-Supplies', 'Media- BooksMoviesMusic', 'Medical And Dental Laboratories', 'Member-Automated Cash Disbursement', 'Member-Merchandise And Services', 'Mens And Boys Clothing And Accessories Stores', 'Mens And Womens Clothing Stores', 'Mens-Womens-Childrens Uniforms-Commercial Cloth', 'Metal Service Centers And Offices', 'Misc Food Store-Convenience Mrkt Splty Vendng Macs', 'Misc-Auto-Aircraft-Farm Equip Not Elsewhere Class', 'Miscellaneous And Specialty Retail Stores', 'Miscellaneous General Merchandise', 'Miscellaneous House Furnishing Specialty Shops', 'Miscellaneous Publishing And Printing', 'Miscellaneous Repair Shops And Related Services', 'Miscellaneous Services', 'Mobile Home Dealers', 'Motion Picture Theaters', 'Motion Picture-Video Tape Production-Distribution', 'Motor Home Dealers', 'Motor Vehicle Supplies And New Parts', 'Motorcycle Shops And Dealers', 'Music Stores-Instruments Pianos Sheet Music', 'NEWS DEALERS AND NEWSSTANDS', 'NONDURABLE GOODS NOT ELSEWHERE CLASSIFIED', 'NURSING AND PERSONAL CARE FACILITIES', 'News Dealers And Newsstands', 'Nondurable Goods Not Elsewhere Classified', 'Nursing And Personal Care Facilities', 'OFFICE AND COMMERCIAL FURNITURE', 'OFFICE PHOTOGRAPHIC PHOTOCOPY MICROFILM EQUIPMT', 'OFFICE SCHOOL SUPPLY AND STATIONERY STORES', 'OPTICIANS OPTICAL GOODS EYEGLASSES', 'OPTOMETRISTS OPHTHALMOLOGISTS', 'ORGANIZATIONS CHARITABLE AND SOCIAL SERVICES', 'ORGANIZATIONS MEMBERSHIP-NOT ELSEWHERE CLASSIFIED', 'ORGANIZATIONS POLITICAL', 'ORGANIZATIONS RELIGIOUS', 'ORTHOPEDIC GOODS-ARTIFICIAL LIMB STORES', 'OTHER SERVICES NOT ELSEWHERE CLASSIFIED', 'Office And Commercial Furniture', 'Office Photographic Photocopy Microfilm Equipmt', 'Office School Supply And Stationery Stores', 'Opticians Optical Goods Eyeglasses', 'Optometrists Ophthalmologists', 'Organizations Charitable And Social Services', 'Organizations Membership-Not Elsewhere Classified', 'Organizations Political', 'Organizations Religious', 'Orthopedic Goods-Artificial Limb Stores', 'Other Services Not Elsewhere Classified', 'PACKAGE STORES BEER WINE LIQUOR', 'PAINTS VARNISHES AND SUPPLIES', 'PET SHOPS - PET FOODS AND SUPPLIES', 'PETROLEUM AND PETROLEUM PRODUCTS', 'PHOTO DEVELOPING PHOTOFINISHING LABORATORIES', 'PHOTOGRAPHIC STUDIOS', 'PIECE GOODS NOTIONS AND OTHER DRY GOODS', 'PLUMBING AND HEATING EQUIPMENT', 'POSTAL SERVICES-GOVERNMENT ONLY', 'PRECIOUS STONES AND METALS WATCHES AND JEWELRY', 'PROFESSIONAL SERVICES-NOT ELSEWHERE CLASSIFIED', 'PUBLIC WAREHOUSING-FARM REFRIG GOODS HHG STORAGE', 'Paints Varnishes And Supplies', 'Pawn Shops', 'Pet Shops - Pet Foods And Supplies', 'Petroleum And Petroleum Products', 'Photo Developing Photofinishing Laboratories', 'Photographic Studios', 'Piece Goods Notions And Other Dry Goods', 'Plumbing And Heating Equipment', 'Poi Funding - Excl Moneysend', 'Postal Services-Government Only', 'Professional Services-Not Elsewhere Classified', 'Public Warehousing-Farm Refrig Goods Hhg Storage', 'QUICK COPY REPRODUCTION AND BLUEPRINTING SERVICES', 'Quick Copy Reproduction And Blueprinting Services', 'RAILROADS - FREIGHT', 'RECORD SHOPS', 'RECREATION SERVICES NOT ELSEWHERE CLASSIFIED', 'RECREATIONAL AND SPORTING CAMPS', 'RELIGIOUS GOODS STORES', 'ROOFING AND SIDING SHEET METAL WORK CONTRACTORS', 'Record Shops', 'Recreation Services Not Elsewhere Classified', 'Recreational And Sporting Camps', 'Religious Goods Stores', 'Roofing And Siding Sheet Metal Work Contractors', 'SALVAGE AND WRECKING YARDS', 'SANITATION POLISHING SPECIALITY CLEANING PREP', 'SCHOOLS BUSINESS AND SECRETARIAL', 'SCHOOLS CORRESPONDENCE', 'SCHOOLS EDUCATIONAL SVC-NOT ELSEWHERE CLASSIFIED', 'SCHOOLS ELEMENTARY AND SECONDARY', 'SCHOOLS TRADE AND VOCATIONAL', 'SECOND HAND STORES USED MERCHANDISE STORES', 'SERVICE STATIONS WITH OR WITHOUT ANCILLARY SERVICE', 'SHOE STORES', 'SPORTING GOODS STORES', 'SPORTS APPAREL RIDING APPAREL STORES', 'STAMP COIN STORES-PHILATELIC NUMISMATIC SUPPLY', 'STATIONERY-OFFICE SUPPLIES-PRINTING WRITING PAP', 'STENOGRAPHIC AND SECRETARIAL SUPPORT SERVICES', 'SWIMMING POOLS - SALES AND SUPPLIES', 'Salvage And Wrecking Yards', 'Sanitation Polishing Speciality Cleaning Prep', 'Schools Business And Secretarial', 'Schools Correspondence', 'Schools Educational Svc-Not Elsewhere Classified', 'Schools Elementary And Secondary', 'Schools Trade And Vocational', 'Second Hand Stores Used Merchandise Stores', 'Securities-Brokers-Dealers', 'Service Stations With Or Without Ancillary Service', 'Shoe Stores', 'Snowmobile Dealers', 'Sporting Goods Stores', 'Sports Apparel Riding Apparel Stores', 'Stamp Coin Stores-Philatelic Numismatic Supply', 'Stationery-Office Supplies-Printing Writing Pap', 'Stenographic And Secretarial Support Services', 'Swimming Pools - Sales And Supplies', 'TAX PAYMENTS', 'TAX PREPARATION SERVICE', 'TELECOM INCL PREPAID-RECURRING PHONE SVCS', 'TELECOMMUNICATION EQUIPMENT INCL TELEPHONE SALES', 'TENT AND AWNING SHOPS', 'TESTING LABORATORIES NON-MEDICAL', 'THEATRICAL PRODUCERSEXCL MOTION PIX TICKET AGNCY', 'TIMESHARES', 'TIRE RETREADING AND REPAIR SHOPS', 'TOURIST ATTRACTIONS AND EXHIBITS', 'TOWING SERVICES', 'TRANSPORTATION SERVICES NOT ELSEWHERE CLASSIFIED', 'TRAVEL', 'TYPESETTING PLATE MAKING RELATED SERVICES', 'TYPEWRITER STORES-RENTALS SALES SERVICE', 'Tax Payments', 'Tax Preparation Service', 'Telecom Incl Prepaid-Recurring Phone Svcs', 'Telecommunication Equipment Incl Telephone Sales', 'Tent And Awning Shops', 'Testing Laboratories Non-Medical', 'Theatrical ProducersExcl Motion Pix Ticket Agncy', 'Tire Retreading And Repair Shops', 'Tourist Attractions And Exhibits', 'Towing Services', 'Transportation Services Not Elsewhere Classified', 'Travel', 'Typesetting Plate Making Related Services', 'Typewriter Stores-Rentals Sales Service', 'UTLTS-ELCTRC GAS HEATING OIL SANITARY WATER', 'Utlts-Elctrc Gas Heating Oil Sanitary Water', 'VARIETY STORES', 'VETERINARY SERVICES', 'VIDEO AMUSEMENT GAME SUPPLIES', 'VIDEO ENTERTAINMENT RENTAL STORES', 'VIDEO GAME ARCADES-ESTABLISHMENTS', 'Variety Stores', 'Veterinary Services', 'Video Amusement Game Supplies', 'Video Entertainment Rental Stores', 'Video Game Arcades-Establishments', 'WELDING REPAIR', 'WHOLESALE CLUBS', 'WOMENS ACCESSORY AND SPECIALTY STORES', 'WOMENS READY TO WEAR STORES', 'Welding Repair', 'Wholesale Clubs', 'Wig And Toupee Shops', 'Womens Accessory And Specialty Stores', 'Womens Ready To Wear Stores']\n"
     ]
    }
   ],
   "source": [
    "# All unique contract descriptions\n",
    "print('CAT_DESCR count = ' + str(len(data.CAT_DESCR.unique()))+\"\\n\")\n",
    "c0 = data['CAT_DESCR'].unique()\n",
    "print(sorted(c0))"
   ]
  },
  {
   "cell_type": "code",
   "execution_count": null,
   "metadata": {},
   "outputs": [],
   "source": []
  }
 ],
 "metadata": {
  "kernelspec": {
   "display_name": "Python 3",
   "language": "python",
   "name": "python3"
  },
  "language_info": {
   "codemirror_mode": {
    "name": "ipython",
    "version": 3
   },
   "file_extension": ".py",
   "mimetype": "text/x-python",
   "name": "python",
   "nbconvert_exporter": "python",
   "pygments_lexer": "ipython3",
   "version": "3.7.2"
  }
 },
 "nbformat": 4,
 "nbformat_minor": 2
}
